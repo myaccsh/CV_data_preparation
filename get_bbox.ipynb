{
  "cells": [
    {
      "cell_type": "code",
      "execution_count": null,
      "metadata": {
        "colab": {
          "base_uri": "https://localhost:8080/"
        },
        "id": "KXiNwpkmFeQr",
        "outputId": "259c6edb-a056-4783-c1bc-d354565cb65b"
      },
      "outputs": [
        {
          "name": "stdout",
          "output_type": "stream",
          "text": [
            "Looking in indexes: https://pypi.org/simple, https://us-python.pkg.dev/colab-wheels/public/simple/\n",
            "Requirement already satisfied: pyyaml==5.1 in /usr/local/lib/python3.9/dist-packages (5.1)\n",
            "fatal: destination path 'detectron2' already exists and is not an empty directory.\n",
            "Looking in indexes: https://pypi.org/simple, https://us-python.pkg.dev/colab-wheels/public/simple/\n",
            "Requirement already satisfied: Pillow>=7.1 in /usr/local/lib/python3.9/dist-packages (8.4.0)\n",
            "Requirement already satisfied: matplotlib in /usr/local/lib/python3.9/dist-packages (3.7.1)\n",
            "Requirement already satisfied: pycocotools>=2.0.2 in /usr/local/lib/python3.9/dist-packages (2.0.6)\n",
            "Requirement already satisfied: termcolor>=1.1 in /usr/local/lib/python3.9/dist-packages (2.2.0)\n",
            "Requirement already satisfied: yacs>=0.1.8 in /usr/local/lib/python3.9/dist-packages (0.1.8)\n",
            "Requirement already satisfied: tabulate in /usr/local/lib/python3.9/dist-packages (0.8.10)\n",
            "Requirement already satisfied: cloudpickle in /usr/local/lib/python3.9/dist-packages (2.2.1)\n",
            "Requirement already satisfied: tqdm>4.29.0 in /usr/local/lib/python3.9/dist-packages (4.65.0)\n",
            "Requirement already satisfied: tensorboard in /usr/local/lib/python3.9/dist-packages (2.12.2)\n",
            "Requirement already satisfied: fvcore<0.1.6,>=0.1.5 in /usr/local/lib/python3.9/dist-packages (0.1.5.post20221221)\n",
            "Requirement already satisfied: iopath<0.1.10,>=0.1.7 in /usr/local/lib/python3.9/dist-packages (0.1.9)\n",
            "Requirement already satisfied: omegaconf>=2.1 in /usr/local/lib/python3.9/dist-packages (2.3.0)\n",
            "Requirement already satisfied: hydra-core>=1.1 in /usr/local/lib/python3.9/dist-packages (1.3.2)\n",
            "Requirement already satisfied: black in /usr/local/lib/python3.9/dist-packages (23.3.0)\n",
            "Requirement already satisfied: packaging in /usr/local/lib/python3.9/dist-packages (23.1)\n",
            "Requirement already satisfied: kiwisolver>=1.0.1 in /usr/local/lib/python3.9/dist-packages (from matplotlib) (1.4.4)\n",
            "Requirement already satisfied: numpy>=1.20 in /usr/local/lib/python3.9/dist-packages (from matplotlib) (1.22.4)\n",
            "Requirement already satisfied: contourpy>=1.0.1 in /usr/local/lib/python3.9/dist-packages (from matplotlib) (1.0.7)\n",
            "Requirement already satisfied: cycler>=0.10 in /usr/local/lib/python3.9/dist-packages (from matplotlib) (0.11.0)\n",
            "Requirement already satisfied: importlib-resources>=3.2.0 in /usr/local/lib/python3.9/dist-packages (from matplotlib) (5.12.0)\n",
            "Requirement already satisfied: python-dateutil>=2.7 in /usr/local/lib/python3.9/dist-packages (from matplotlib) (2.8.2)\n",
            "Requirement already satisfied: pyparsing>=2.3.1 in /usr/local/lib/python3.9/dist-packages (from matplotlib) (3.0.9)\n",
            "Requirement already satisfied: fonttools>=4.22.0 in /usr/local/lib/python3.9/dist-packages (from matplotlib) (4.39.3)\n",
            "Requirement already satisfied: PyYAML in /usr/local/lib/python3.9/dist-packages (from yacs>=0.1.8) (5.1)\n",
            "Requirement already satisfied: markdown>=2.6.8 in /usr/local/lib/python3.9/dist-packages (from tensorboard) (3.4.3)\n",
            "Requirement already satisfied: setuptools>=41.0.0 in /usr/local/lib/python3.9/dist-packages (from tensorboard) (67.6.1)\n",
            "Requirement already satisfied: requests<3,>=2.21.0 in /usr/local/lib/python3.9/dist-packages (from tensorboard) (2.27.1)\n",
            "Requirement already satisfied: tensorboard-plugin-wit>=1.6.0 in /usr/local/lib/python3.9/dist-packages (from tensorboard) (1.8.1)\n",
            "Requirement already satisfied: google-auth-oauthlib<1.1,>=0.5 in /usr/local/lib/python3.9/dist-packages (from tensorboard) (1.0.0)\n",
            "Requirement already satisfied: protobuf>=3.19.6 in /usr/local/lib/python3.9/dist-packages (from tensorboard) (3.20.3)\n",
            "Requirement already satisfied: tensorboard-data-server<0.8.0,>=0.7.0 in /usr/local/lib/python3.9/dist-packages (from tensorboard) (0.7.0)\n",
            "Requirement already satisfied: google-auth<3,>=1.6.3 in /usr/local/lib/python3.9/dist-packages (from tensorboard) (2.17.3)\n",
            "Requirement already satisfied: grpcio>=1.48.2 in /usr/local/lib/python3.9/dist-packages (from tensorboard) (1.53.0)\n",
            "Requirement already satisfied: absl-py>=0.4 in /usr/local/lib/python3.9/dist-packages (from tensorboard) (1.4.0)\n",
            "Requirement already satisfied: wheel>=0.26 in /usr/local/lib/python3.9/dist-packages (from tensorboard) (0.40.0)\n",
            "Requirement already satisfied: werkzeug>=1.0.1 in /usr/local/lib/python3.9/dist-packages (from tensorboard) (2.2.3)\n",
            "Requirement already satisfied: portalocker in /usr/local/lib/python3.9/dist-packages (from iopath<0.1.10,>=0.1.7) (2.7.0)\n",
            "Requirement already satisfied: antlr4-python3-runtime==4.9.* in /usr/local/lib/python3.9/dist-packages (from omegaconf>=2.1) (4.9.3)\n",
            "Requirement already satisfied: tomli>=1.1.0 in /usr/local/lib/python3.9/dist-packages (from black) (2.0.1)\n",
            "Requirement already satisfied: mypy-extensions>=0.4.3 in /usr/local/lib/python3.9/dist-packages (from black) (1.0.0)\n",
            "Requirement already satisfied: typing-extensions>=3.10.0.0 in /usr/local/lib/python3.9/dist-packages (from black) (4.5.0)\n",
            "Requirement already satisfied: platformdirs>=2 in /usr/local/lib/python3.9/dist-packages (from black) (3.2.0)\n",
            "Requirement already satisfied: pathspec>=0.9.0 in /usr/local/lib/python3.9/dist-packages (from black) (0.11.1)\n",
            "Requirement already satisfied: click>=8.0.0 in /usr/local/lib/python3.9/dist-packages (from black) (8.1.3)\n",
            "Requirement already satisfied: rsa<5,>=3.1.4 in /usr/local/lib/python3.9/dist-packages (from google-auth<3,>=1.6.3->tensorboard) (4.9)\n",
            "Requirement already satisfied: pyasn1-modules>=0.2.1 in /usr/local/lib/python3.9/dist-packages (from google-auth<3,>=1.6.3->tensorboard) (0.2.8)\n",
            "Requirement already satisfied: six>=1.9.0 in /usr/local/lib/python3.9/dist-packages (from google-auth<3,>=1.6.3->tensorboard) (1.16.0)\n",
            "Requirement already satisfied: cachetools<6.0,>=2.0.0 in /usr/local/lib/python3.9/dist-packages (from google-auth<3,>=1.6.3->tensorboard) (5.3.0)\n",
            "Requirement already satisfied: requests-oauthlib>=0.7.0 in /usr/local/lib/python3.9/dist-packages (from google-auth-oauthlib<1.1,>=0.5->tensorboard) (1.3.1)\n",
            "Requirement already satisfied: zipp>=3.1.0 in /usr/local/lib/python3.9/dist-packages (from importlib-resources>=3.2.0->matplotlib) (3.15.0)\n",
            "Requirement already satisfied: importlib-metadata>=4.4 in /usr/local/lib/python3.9/dist-packages (from markdown>=2.6.8->tensorboard) (6.4.1)\n",
            "Requirement already satisfied: idna<4,>=2.5 in /usr/local/lib/python3.9/dist-packages (from requests<3,>=2.21.0->tensorboard) (3.4)\n",
            "Requirement already satisfied: urllib3<1.27,>=1.21.1 in /usr/local/lib/python3.9/dist-packages (from requests<3,>=2.21.0->tensorboard) (1.26.15)\n",
            "Requirement already satisfied: charset-normalizer~=2.0.0 in /usr/local/lib/python3.9/dist-packages (from requests<3,>=2.21.0->tensorboard) (2.0.12)\n",
            "Requirement already satisfied: certifi>=2017.4.17 in /usr/local/lib/python3.9/dist-packages (from requests<3,>=2.21.0->tensorboard) (2022.12.7)\n",
            "Requirement already satisfied: MarkupSafe>=2.1.1 in /usr/local/lib/python3.9/dist-packages (from werkzeug>=1.0.1->tensorboard) (2.1.2)\n",
            "Requirement already satisfied: pyasn1<0.5.0,>=0.4.6 in /usr/local/lib/python3.9/dist-packages (from pyasn1-modules>=0.2.1->google-auth<3,>=1.6.3->tensorboard) (0.4.8)\n",
            "Requirement already satisfied: oauthlib>=3.0.0 in /usr/local/lib/python3.9/dist-packages (from requests-oauthlib>=0.7.0->google-auth-oauthlib<1.1,>=0.5->tensorboard) (3.2.2)\n"
          ]
        }
      ],
      "source": [
        "!python -m pip install pyyaml==5.1\n",
        "import sys, os, distutils.core\n",
        "!git clone 'https://github.com/facebookresearch/detectron2'\n",
        "dist = distutils.core.run_setup(\"./detectron2/setup.py\")\n",
        "!python -m pip install {' '.join([f\"'{x}'\" for x in dist.install_requires])}\n",
        "sys.path.insert(0, os.path.abspath('./detectron2'))"
      ]
    },
    {
      "cell_type": "code",
      "execution_count": null,
      "metadata": {
        "colab": {
          "base_uri": "https://localhost:8080/"
        },
        "id": "nDtf32d5FpKb",
        "outputId": "cf6d6f46-d7a5-47f1-998f-cdbb299fe4e9"
      },
      "outputs": [
        {
          "name": "stdout",
          "output_type": "stream",
          "text": [
            "nvcc: NVIDIA (R) Cuda compiler driver\n",
            "Copyright (c) 2005-2022 NVIDIA Corporation\n",
            "Built on Wed_Sep_21_10:33:58_PDT_2022\n",
            "Cuda compilation tools, release 11.8, V11.8.89\n",
            "Build cuda_11.8.r11.8/compiler.31833905_0\n",
            "torch:  2.0 ; cuda:  cu118\n",
            "detectron2: 0.6\n"
          ]
        }
      ],
      "source": [
        "import torch, detectron2\n",
        "!nvcc --version\n",
        "TORCH_VERSION = \".\".join(torch.__version__.split(\".\")[:2])\n",
        "CUDA_VERSION = torch.__version__.split(\"+\")[-1]\n",
        "print(\"torch: \", TORCH_VERSION, \"; cuda: \", CUDA_VERSION)\n",
        "print(\"detectron2:\", detectron2.__version__)"
      ]
    },
    {
      "cell_type": "code",
      "execution_count": null,
      "metadata": {
        "colab": {
          "base_uri": "https://localhost:8080/"
        },
        "id": "d6Fugv7dFxcl",
        "outputId": "5da3a306-58aa-4c5e-e325-7e43a3330992"
      },
      "outputs": [
        {
          "name": "stdout",
          "output_type": "stream",
          "text": [
            "Drive already mounted at /content/drive; to attempt to forcibly remount, call drive.mount(\"/content/drive\", force_remount=True).\n"
          ]
        }
      ],
      "source": [
        "import detectron2\n",
        "from detectron2.utils.logger import setup_logger\n",
        "setup_logger()\n",
        "\n",
        "import numpy as np\n",
        "import os, json, cv2, random\n",
        "\n",
        "from torchvision.ops import box_iou\n",
        "\n",
        "from PIL import Image\n",
        "from google.colab.patches import cv2_imshow\n",
        "from google.colab import files\n",
        "\n",
        "from detectron2 import model_zoo\n",
        "from detectron2.engine import DefaultPredictor\n",
        "from detectron2.config import get_cfg\n",
        "from detectron2.utils.visualizer import Visualizer\n",
        "from detectron2.data import MetadataCatalog, DatasetCatalog\n",
        "from google.colab import drive\n",
        "from copy import copy\n",
        "drive.mount('/content/drive')"
      ]
    },
    {
      "cell_type": "code",
      "execution_count": null,
      "metadata": {
        "colab": {
          "base_uri": "https://localhost:8080/"
        },
        "id": "v8xsS0Mqy2v7",
        "outputId": "1a337f94-4dc3-4475-d16f-ae89f36c5488"
      },
      "outputs": [
        {
          "name": "stdout",
          "output_type": "stream",
          "text": [
            "[04/22 14:44:07 d2.checkpoint.detection_checkpoint]: [DetectionCheckpointer] Loading from https://dl.fbaipublicfiles.com/detectron2/COCO-InstanceSegmentation/mask_rcnn_R_101_FPN_3x/138205316/model_final_a3ec72.pkl ...\n"
          ]
        }
      ],
      "source": [
        "cfg = get_cfg()\n",
        "\n",
        "cfg.merge_from_file(model_zoo.get_config_file(\"COCO-InstanceSegmentation/mask_rcnn_R_101_FPN_3x.yaml\"))\n",
        "cfg.MODEL.ROI_HEADS.SCORE_THRESH_TEST = 0.75  # set threshold for this model\n",
        "\n",
        "cfg.MODEL.WEIGHTS = model_zoo.get_checkpoint_url(\"COCO-InstanceSegmentation/mask_rcnn_R_101_FPN_3x.yaml\")\n",
        "predictor = DefaultPredictor(cfg)"
      ]
    },
    {
      "cell_type": "code",
      "execution_count": null,
      "metadata": {
        "id": "vpHyJns4I64i"
      },
      "outputs": [],
      "source": [
        "def expand_bboxes(bboxes, height, width):\n",
        "  square_bboxes = []\n",
        "  for bbox in bboxes:\n",
        "    w, h = bbox[2] - bbox[0], bbox[3] - bbox[1]\n",
        "    if h >= w:\n",
        "      bbox[2] = min(bbox[2] + (h - w)/2, width)\n",
        "      bbox[0] = max(bbox[0] - (h - w)/2, 0)\n",
        "    else:\n",
        "      bbox[3] = min(bbox[3] + (w - h)/2, height)\n",
        "      bbox[1] = max(bbox[1] - (w - h)/2, 0)\n",
        "    bbox = bbox.to(torch.int)\n",
        "    square_bboxes.append(bbox)\n",
        "  return square_bboxes"
      ]
    },
    {
      "cell_type": "code",
      "execution_count": null,
      "metadata": {
        "id": "UN8-j1EJkexj"
      },
      "outputs": [],
      "source": [
        "def ema(new_bbox, ema_before):\n",
        "  alpha = 0.3\n",
        "  return new_bbox * alpha + ema_before * (1 - alpha)"
      ]
    },
    {
      "cell_type": "code",
      "execution_count": null,
      "metadata": {
        "id": "dYzp_R7zmzcB"
      },
      "outputs": [],
      "source": [
        "def video_cropping(video):\n",
        "  cap = cv2.VideoCapture(f'/content/drive/MyDrive/Данные/{video}')\n",
        "\n",
        "  name = video.split('-')[0]\n",
        "  frame_width = int(cap.get(3))\n",
        "  frame_height = int(cap.get(4))\n",
        "  fps = cap.get(cv2.CAP_PROP_FPS)\n",
        "  output_bboxes = torch.tensor([])\n",
        "  frame_number = 0\n",
        "  writer = []\n",
        "  font = cv2.FONT_HERSHEY_SIMPLEX\n",
        "  frames = cap.get(cv2.CAP_PROP_FRAME_COUNT)\n",
        "  v_time = round(frames/fps)\n",
        "\n",
        "  while cap.isOpened():\n",
        "    ret, frame = cap.read()\n",
        "\n",
        "    if ret == False:\n",
        "      break\n",
        "    outputs = predictor(frame)\n",
        "\n",
        "    classes = outputs[\"instances\"].pred_classes\n",
        "    bboxes = outputs[\"instances\"].pred_boxes\n",
        "    scores = outputs[\"instances\"].scores\n",
        "\n",
        "    human_bboxes = bboxes[(classes == 0) & (scores > 0.7)].tensor.to(torch.int).cpu().numpy()\n",
        "    #print(human_bboxes)\n",
        "    if (len(human_bboxes) == 0) & (len(output_bboxes) == 0):\n",
        "      print('First frame don\\'t have human!!!')\n",
        "      continue\n",
        "\n",
        "    idx_max_iou = 0\n",
        "    best_bboxes = []\n",
        "\n",
        "    # update bboxes for new video frame\n",
        "    if len(output_bboxes) == 0:\n",
        "      output_bboxes = torch.from_numpy(human_bboxes)\n",
        "    elif len(output_bboxes) <= len(human_bboxes):\n",
        "      for bbox in output_bboxes:\n",
        "        iou = box_iou(bbox[None,], torch.from_numpy(human_bboxes))\n",
        "        # check jumps of bbox\n",
        "        if iou.max(dim = 1).values < 0.1:\n",
        "          best_bboxes.append(bbox.cpu().numpy())\n",
        "        else:\n",
        "          idx_max_iou = iou.argmax(dim = 1).cpu().numpy()\n",
        "          best_bboxes.extend(human_bboxes[idx_max_iou])\n",
        "          human_bboxes = np.delete(human_bboxes, idx_max_iou, 0)\n",
        "\n",
        "      output_bboxes = torch.from_numpy(np.array(best_bboxes))\n",
        "    else:\n",
        "      iou = box_iou(output_bboxes, torch.from_numpy(human_bboxes))\n",
        "      idx_max_iou = iou.argmax(dim = 0).cpu().numpy()\n",
        "      output_bboxes[idx_max_iou] = torch.from_numpy(human_bboxes)\n",
        "\n",
        "    frame_number += 1\n",
        "    if frame_number % (10 * fps) == 0:\n",
        "      v_time -= 10\n",
        "      print('Осталось (сек):', v_time)\n",
        "    # files to write + EMA for bboxes\n",
        "    if frame_number == 1:\n",
        "      ema_before = torch.empty_like(output_bboxes).copy_(output_bboxes)\n",
        "      out = cv2.VideoWriter(f'{name}.mpeg', cv2.VideoWriter_fourcc(*'MPEG'), fps, (frame_width, frame_height))\n",
        "      for i in range(len(human_bboxes)):\n",
        "        writer.append(cv2.VideoWriter(f'{name}-man-{i}.mpeg', cv2.VideoWriter_fourcc(*'MPEG'), fps, (512, 512)))\n",
        "    elif frame_number <= 5:\n",
        "      ema_before = ema(output_bboxes, ema_before)\n",
        "    else:\n",
        "      ema_before = ema(output_bboxes, ema_before)\n",
        "      output_bboxes = ema_before.to(torch.int)\n",
        "\n",
        "    # data collection for model\n",
        "    square_bboxes = expand_bboxes(torch.empty_like(output_bboxes).copy_(output_bboxes), frame_height, frame_width)\n",
        "    for i in range(len(square_bboxes)):\n",
        "      cropping_frame = frame[square_bboxes[i][1]:square_bboxes[i][3], square_bboxes[i][0]:square_bboxes[i][2]]\n",
        "      cropping_frame = cv2.resize(cropping_frame, (512,512), interpolation = cv2.INTER_LANCZOS4)\n",
        "      writer[i].write(cropping_frame)\n",
        "\n",
        "    # visualization of bboxes\n",
        "    for i, bbox in enumerate(output_bboxes.cpu().numpy()):\n",
        "      color = [0, 0, 0]\n",
        "      color[i] = 255\n",
        "      cv2.rectangle(frame, bbox[:2], bbox[-2:], color, 2)\n",
        "      cv2.putText(frame, f'ID_{i}', (bbox[0], bbox[1] - 5), font, 0.5, color, 2)\n",
        "\n",
        "    out.write(frame)\n",
        "\n",
        "  cap.release()\n",
        "  out.release()\n",
        "  for item in writer:\n",
        "    item.release()\n",
        "  cv2.destroyAllWindows()\n",
        "\n",
        "  # download output videos\n",
        "  files.download(f'{name}.mpeg')\n",
        "  for i in range(len(writer)):\n",
        "    files.download(f'{name}-man-{i}.mpeg')\n",
        "\n",
        "  return 0"
      ]
    }
  ],
  "metadata": {
    "accelerator": "GPU",
    "colab": {
      "provenance": []
    },
    "gpuClass": "standard",
    "kernelspec": {
      "display_name": "Python 3",
      "name": "python3"
    },
    "language_info": {
      "name": "python"
    }
  },
  "nbformat": 4,
  "nbformat_minor": 0
}